{
 "cells": [
  {
   "cell_type": "code",
   "execution_count": 15,
   "metadata": {},
   "outputs": [],
   "source": [
    "import pandas as pd\n",
    "import matplotlib.pyplot as plt\n",
    "import seaborn as sns\n",
    "sns.set()\n",
    "%matplotlib inline"
   ]
  },
  {
   "cell_type": "code",
   "execution_count": 101,
   "metadata": {},
   "outputs": [],
   "source": [
    "dataset = pd.read_csv(\"Churn_Modelling.csv\")"
   ]
  },
  {
   "cell_type": "code",
   "execution_count": 89,
   "metadata": {},
   "outputs": [
    {
     "data": {
      "text/html": [
       "<div>\n",
       "<style scoped>\n",
       "    .dataframe tbody tr th:only-of-type {\n",
       "        vertical-align: middle;\n",
       "    }\n",
       "\n",
       "    .dataframe tbody tr th {\n",
       "        vertical-align: top;\n",
       "    }\n",
       "\n",
       "    .dataframe thead th {\n",
       "        text-align: right;\n",
       "    }\n",
       "</style>\n",
       "<table border=\"1\" class=\"dataframe\">\n",
       "  <thead>\n",
       "    <tr style=\"text-align: right;\">\n",
       "      <th></th>\n",
       "      <th>RowNumber</th>\n",
       "      <th>CustomerId</th>\n",
       "      <th>Surname</th>\n",
       "      <th>CreditScore</th>\n",
       "      <th>Geography</th>\n",
       "      <th>Gender</th>\n",
       "      <th>Age</th>\n",
       "      <th>Tenure</th>\n",
       "      <th>Balance</th>\n",
       "      <th>NumOfProducts</th>\n",
       "      <th>HasCrCard</th>\n",
       "      <th>IsActiveMember</th>\n",
       "      <th>EstimatedSalary</th>\n",
       "      <th>Exited</th>\n",
       "    </tr>\n",
       "  </thead>\n",
       "  <tbody>\n",
       "    <tr>\n",
       "      <th>0</th>\n",
       "      <td>1</td>\n",
       "      <td>15634602</td>\n",
       "      <td>Hargrave</td>\n",
       "      <td>619</td>\n",
       "      <td>France</td>\n",
       "      <td>Female</td>\n",
       "      <td>42</td>\n",
       "      <td>2</td>\n",
       "      <td>0.00</td>\n",
       "      <td>1</td>\n",
       "      <td>1</td>\n",
       "      <td>1</td>\n",
       "      <td>101348.88</td>\n",
       "      <td>1</td>\n",
       "    </tr>\n",
       "    <tr>\n",
       "      <th>1</th>\n",
       "      <td>2</td>\n",
       "      <td>15647311</td>\n",
       "      <td>Hill</td>\n",
       "      <td>608</td>\n",
       "      <td>Spain</td>\n",
       "      <td>Female</td>\n",
       "      <td>41</td>\n",
       "      <td>1</td>\n",
       "      <td>83807.86</td>\n",
       "      <td>1</td>\n",
       "      <td>0</td>\n",
       "      <td>1</td>\n",
       "      <td>112542.58</td>\n",
       "      <td>0</td>\n",
       "    </tr>\n",
       "    <tr>\n",
       "      <th>2</th>\n",
       "      <td>3</td>\n",
       "      <td>15619304</td>\n",
       "      <td>Onio</td>\n",
       "      <td>502</td>\n",
       "      <td>France</td>\n",
       "      <td>Female</td>\n",
       "      <td>42</td>\n",
       "      <td>8</td>\n",
       "      <td>159660.80</td>\n",
       "      <td>3</td>\n",
       "      <td>1</td>\n",
       "      <td>0</td>\n",
       "      <td>113931.57</td>\n",
       "      <td>1</td>\n",
       "    </tr>\n",
       "    <tr>\n",
       "      <th>3</th>\n",
       "      <td>4</td>\n",
       "      <td>15701354</td>\n",
       "      <td>Boni</td>\n",
       "      <td>699</td>\n",
       "      <td>France</td>\n",
       "      <td>Female</td>\n",
       "      <td>39</td>\n",
       "      <td>1</td>\n",
       "      <td>0.00</td>\n",
       "      <td>2</td>\n",
       "      <td>0</td>\n",
       "      <td>0</td>\n",
       "      <td>93826.63</td>\n",
       "      <td>0</td>\n",
       "    </tr>\n",
       "    <tr>\n",
       "      <th>4</th>\n",
       "      <td>5</td>\n",
       "      <td>15737888</td>\n",
       "      <td>Mitchell</td>\n",
       "      <td>850</td>\n",
       "      <td>Spain</td>\n",
       "      <td>Female</td>\n",
       "      <td>43</td>\n",
       "      <td>2</td>\n",
       "      <td>125510.82</td>\n",
       "      <td>1</td>\n",
       "      <td>1</td>\n",
       "      <td>1</td>\n",
       "      <td>79084.10</td>\n",
       "      <td>0</td>\n",
       "    </tr>\n",
       "  </tbody>\n",
       "</table>\n",
       "</div>"
      ],
      "text/plain": [
       "   RowNumber  CustomerId   Surname  CreditScore Geography  Gender  Age  \\\n",
       "0          1    15634602  Hargrave          619    France  Female   42   \n",
       "1          2    15647311      Hill          608     Spain  Female   41   \n",
       "2          3    15619304      Onio          502    France  Female   42   \n",
       "3          4    15701354      Boni          699    France  Female   39   \n",
       "4          5    15737888  Mitchell          850     Spain  Female   43   \n",
       "\n",
       "   Tenure    Balance  NumOfProducts  HasCrCard  IsActiveMember  \\\n",
       "0       2       0.00              1          1               1   \n",
       "1       1   83807.86              1          0               1   \n",
       "2       8  159660.80              3          1               0   \n",
       "3       1       0.00              2          0               0   \n",
       "4       2  125510.82              1          1               1   \n",
       "\n",
       "   EstimatedSalary  Exited  \n",
       "0        101348.88       1  \n",
       "1        112542.58       0  \n",
       "2        113931.57       1  \n",
       "3         93826.63       0  \n",
       "4         79084.10       0  "
      ]
     },
     "execution_count": 89,
     "metadata": {},
     "output_type": "execute_result"
    }
   ],
   "source": [
    "dataset.head()"
   ]
  },
  {
   "cell_type": "code",
   "execution_count": 90,
   "metadata": {},
   "outputs": [
    {
     "data": {
      "text/plain": [
       "10000"
      ]
     },
     "execution_count": 90,
     "metadata": {},
     "output_type": "execute_result"
    }
   ],
   "source": [
    "len(dataset)"
   ]
  },
  {
   "cell_type": "markdown",
   "metadata": {},
   "source": [
    "Exited (Churned)\n",
    "1 --> Yes\n",
    "0 --> No"
   ]
  },
  {
   "cell_type": "code",
   "execution_count": 91,
   "metadata": {},
   "outputs": [
    {
     "data": {
      "text/plain": [
       "RowNumber          0\n",
       "CustomerId         0\n",
       "Surname            0\n",
       "CreditScore        0\n",
       "Geography          0\n",
       "Gender             0\n",
       "Age                0\n",
       "Tenure             0\n",
       "Balance            0\n",
       "NumOfProducts      0\n",
       "HasCrCard          0\n",
       "IsActiveMember     0\n",
       "EstimatedSalary    0\n",
       "Exited             0\n",
       "dtype: int64"
      ]
     },
     "execution_count": 91,
     "metadata": {},
     "output_type": "execute_result"
    }
   ],
   "source": [
    "#Check any missing data\n",
    "dataset.isnull().sum()"
   ]
  },
  {
   "cell_type": "markdown",
   "metadata": {},
   "source": [
    "## Exploratory Data Analysis"
   ]
  },
  {
   "cell_type": "code",
   "execution_count": 92,
   "metadata": {},
   "outputs": [
    {
     "data": {
      "text/plain": [
       "<matplotlib.axes._subplots.AxesSubplot at 0x1a1e22e898>"
      ]
     },
     "execution_count": 92,
     "metadata": {},
     "output_type": "execute_result"
    },
    {
     "data": {
      "image/png": "[encoded data removed]",
      "text/plain": [
       "<Figure size 432x288 with 1 Axes>"
      ]
     },
     "metadata": {
      "needs_background": "light"
     },
     "output_type": "display_data"
    }
   ],
   "source": [
    "#Geography\n",
    "dataset['Geography'].value_counts().plot.bar()"
   ]
  },
  {
   "cell_type": "code",
   "execution_count": 93,
   "metadata": {},
   "outputs": [
    {
     "data": {
      "text/plain": [
       "Geography  Exited\n",
       "France     0         4204\n",
       "           1          810\n",
       "Germany    0         1695\n",
       "           1          814\n",
       "Spain      0         2064\n",
       "           1          413\n",
       "Name: Exited, dtype: int64"
      ]
     },
     "execution_count": 93,
     "metadata": {},
     "output_type": "execute_result"
    }
   ],
   "source": [
    "dataset.groupby('Geography')['Exited'].value_counts()"
   ]
  },
  {
   "cell_type": "code",
   "execution_count": 94,
   "metadata": {},
   "outputs": [
    {
     "data": {
      "text/plain": [
       "<matplotlib.axes._subplots.AxesSubplot at 0x1a1e130780>"
      ]
     },
     "execution_count": 94,
     "metadata": {},
     "output_type": "execute_result"
    },
    {
     "data": {
      "image/png": "[encoded data removed]",
      "text/plain": [
       "<Figure size 432x288 with 1 Axes>"
      ]
     },
     "metadata": {
      "needs_background": "light"
     },
     "output_type": "display_data"
    }
   ],
   "source": [
    "dataset['Age'].hist(bins = 20)"
   ]
  },
  {
   "cell_type": "code",
   "execution_count": 102,
   "metadata": {},
   "outputs": [],
   "source": [
    "dataset['Age'] = dataset['Age'].apply(lambda x : 0 if x >=20 and x < 30 else 1 if x >=30 and x < 40 else 2 if x >=40 and x < 50 else 3)"
   ]
  },
  {
   "cell_type": "code",
   "execution_count": 104,
   "metadata": {},
   "outputs": [
    {
     "data": {
      "text/plain": [
       "1    4346\n",
       "2    2618\n",
       "0    1592\n",
       "3    1444\n",
       "Name: Age, dtype: int64"
      ]
     },
     "execution_count": 104,
     "metadata": {},
     "output_type": "execute_result"
    }
   ],
   "source": [
    "dataset['Age'].value_counts()"
   ]
  },
  {
   "cell_type": "code",
   "execution_count": 105,
   "metadata": {},
   "outputs": [
    {
     "data": {
      "text/html": [
       "<div>\n",
       "<style scoped>\n",
       "    .dataframe tbody tr th:only-of-type {\n",
       "        vertical-align: middle;\n",
       "    }\n",
       "\n",
       "    .dataframe tbody tr th {\n",
       "        vertical-align: top;\n",
       "    }\n",
       "\n",
       "    .dataframe thead th {\n",
       "        text-align: right;\n",
       "    }\n",
       "</style>\n",
       "<table border=\"1\" class=\"dataframe\">\n",
       "  <thead>\n",
       "    <tr style=\"text-align: right;\">\n",
       "      <th></th>\n",
       "      <th>RowNumber</th>\n",
       "      <th>CustomerId</th>\n",
       "      <th>Surname</th>\n",
       "      <th>CreditScore</th>\n",
       "      <th>Geography</th>\n",
       "      <th>Gender</th>\n",
       "      <th>Age</th>\n",
       "      <th>Tenure</th>\n",
       "      <th>Balance</th>\n",
       "      <th>NumOfProducts</th>\n",
       "      <th>HasCrCard</th>\n",
       "      <th>IsActiveMember</th>\n",
       "      <th>EstimatedSalary</th>\n",
       "      <th>Exited</th>\n",
       "    </tr>\n",
       "  </thead>\n",
       "  <tbody>\n",
       "    <tr>\n",
       "      <th>0</th>\n",
       "      <td>1</td>\n",
       "      <td>15634602</td>\n",
       "      <td>Hargrave</td>\n",
       "      <td>619</td>\n",
       "      <td>France</td>\n",
       "      <td>Female</td>\n",
       "      <td>2</td>\n",
       "      <td>2</td>\n",
       "      <td>0.00</td>\n",
       "      <td>1</td>\n",
       "      <td>1</td>\n",
       "      <td>1</td>\n",
       "      <td>101348.88</td>\n",
       "      <td>1</td>\n",
       "    </tr>\n",
       "    <tr>\n",
       "      <th>1</th>\n",
       "      <td>2</td>\n",
       "      <td>15647311</td>\n",
       "      <td>Hill</td>\n",
       "      <td>608</td>\n",
       "      <td>Spain</td>\n",
       "      <td>Female</td>\n",
       "      <td>2</td>\n",
       "      <td>1</td>\n",
       "      <td>83807.86</td>\n",
       "      <td>1</td>\n",
       "      <td>0</td>\n",
       "      <td>1</td>\n",
       "      <td>112542.58</td>\n",
       "      <td>0</td>\n",
       "    </tr>\n",
       "    <tr>\n",
       "      <th>2</th>\n",
       "      <td>3</td>\n",
       "      <td>15619304</td>\n",
       "      <td>Onio</td>\n",
       "      <td>502</td>\n",
       "      <td>France</td>\n",
       "      <td>Female</td>\n",
       "      <td>2</td>\n",
       "      <td>8</td>\n",
       "      <td>159660.80</td>\n",
       "      <td>3</td>\n",
       "      <td>1</td>\n",
       "      <td>0</td>\n",
       "      <td>113931.57</td>\n",
       "      <td>1</td>\n",
       "    </tr>\n",
       "    <tr>\n",
       "      <th>3</th>\n",
       "      <td>4</td>\n",
       "      <td>15701354</td>\n",
       "      <td>Boni</td>\n",
       "      <td>699</td>\n",
       "      <td>France</td>\n",
       "      <td>Female</td>\n",
       "      <td>1</td>\n",
       "      <td>1</td>\n",
       "      <td>0.00</td>\n",
       "      <td>2</td>\n",
       "      <td>0</td>\n",
       "      <td>0</td>\n",
       "      <td>93826.63</td>\n",
       "      <td>0</td>\n",
       "    </tr>\n",
       "    <tr>\n",
       "      <th>4</th>\n",
       "      <td>5</td>\n",
       "      <td>15737888</td>\n",
       "      <td>Mitchell</td>\n",
       "      <td>850</td>\n",
       "      <td>Spain</td>\n",
       "      <td>Female</td>\n",
       "      <td>2</td>\n",
       "      <td>2</td>\n",
       "      <td>125510.82</td>\n",
       "      <td>1</td>\n",
       "      <td>1</td>\n",
       "      <td>1</td>\n",
       "      <td>79084.10</td>\n",
       "      <td>0</td>\n",
       "    </tr>\n",
       "  </tbody>\n",
       "</table>\n",
       "</div>"
      ],
      "text/plain": [
       "   RowNumber  CustomerId   Surname  CreditScore Geography  Gender  Age  \\\n",
       "0          1    15634602  Hargrave          619    France  Female    2   \n",
       "1          2    15647311      Hill          608     Spain  Female    2   \n",
       "2          3    15619304      Onio          502    France  Female    2   \n",
       "3          4    15701354      Boni          699    France  Female    1   \n",
       "4          5    15737888  Mitchell          850     Spain  Female    2   \n",
       "\n",
       "   Tenure    Balance  NumOfProducts  HasCrCard  IsActiveMember  \\\n",
       "0       2       0.00              1          1               1   \n",
       "1       1   83807.86              1          0               1   \n",
       "2       8  159660.80              3          1               0   \n",
       "3       1       0.00              2          0               0   \n",
       "4       2  125510.82              1          1               1   \n",
       "\n",
       "   EstimatedSalary  Exited  \n",
       "0        101348.88       1  \n",
       "1        112542.58       0  \n",
       "2        113931.57       1  \n",
       "3         93826.63       0  \n",
       "4         79084.10       0  "
      ]
     },
     "execution_count": 105,
     "metadata": {},
     "output_type": "execute_result"
    }
   ],
   "source": [
    "dataset.head()"
   ]
  },
  {
   "cell_type": "code",
   "execution_count": 106,
   "metadata": {},
   "outputs": [],
   "source": [
    "dataset_X = dataset.iloc[:,3:13]"
   ]
  },
  {
   "cell_type": "code",
   "execution_count": 107,
   "metadata": {},
   "outputs": [],
   "source": [
    "dataset_y = dataset.iloc[:,-1]"
   ]
  },
  {
   "cell_type": "code",
   "execution_count": 108,
   "metadata": {},
   "outputs": [
    {
     "data": {
      "text/html": [
       "<div>\n",
       "<style scoped>\n",
       "    .dataframe tbody tr th:only-of-type {\n",
       "        vertical-align: middle;\n",
       "    }\n",
       "\n",
       "    .dataframe tbody tr th {\n",
       "        vertical-align: top;\n",
       "    }\n",
       "\n",
       "    .dataframe thead th {\n",
       "        text-align: right;\n",
       "    }\n",
       "</style>\n",
       "<table border=\"1\" class=\"dataframe\">\n",
       "  <thead>\n",
       "    <tr style=\"text-align: right;\">\n",
       "      <th></th>\n",
       "      <th>CreditScore</th>\n",
       "      <th>Geography</th>\n",
       "      <th>Gender</th>\n",
       "      <th>Age</th>\n",
       "      <th>Tenure</th>\n",
       "      <th>Balance</th>\n",
       "      <th>NumOfProducts</th>\n",
       "      <th>HasCrCard</th>\n",
       "      <th>IsActiveMember</th>\n",
       "      <th>EstimatedSalary</th>\n",
       "    </tr>\n",
       "  </thead>\n",
       "  <tbody>\n",
       "    <tr>\n",
       "      <th>0</th>\n",
       "      <td>619</td>\n",
       "      <td>France</td>\n",
       "      <td>Female</td>\n",
       "      <td>2</td>\n",
       "      <td>2</td>\n",
       "      <td>0.00</td>\n",
       "      <td>1</td>\n",
       "      <td>1</td>\n",
       "      <td>1</td>\n",
       "      <td>101348.88</td>\n",
       "    </tr>\n",
       "    <tr>\n",
       "      <th>1</th>\n",
       "      <td>608</td>\n",
       "      <td>Spain</td>\n",
       "      <td>Female</td>\n",
       "      <td>2</td>\n",
       "      <td>1</td>\n",
       "      <td>83807.86</td>\n",
       "      <td>1</td>\n",
       "      <td>0</td>\n",
       "      <td>1</td>\n",
       "      <td>112542.58</td>\n",
       "    </tr>\n",
       "    <tr>\n",
       "      <th>2</th>\n",
       "      <td>502</td>\n",
       "      <td>France</td>\n",
       "      <td>Female</td>\n",
       "      <td>2</td>\n",
       "      <td>8</td>\n",
       "      <td>159660.80</td>\n",
       "      <td>3</td>\n",
       "      <td>1</td>\n",
       "      <td>0</td>\n",
       "      <td>113931.57</td>\n",
       "    </tr>\n",
       "    <tr>\n",
       "      <th>3</th>\n",
       "      <td>699</td>\n",
       "      <td>France</td>\n",
       "      <td>Female</td>\n",
       "      <td>1</td>\n",
       "      <td>1</td>\n",
       "      <td>0.00</td>\n",
       "      <td>2</td>\n",
       "      <td>0</td>\n",
       "      <td>0</td>\n",
       "      <td>93826.63</td>\n",
       "    </tr>\n",
       "    <tr>\n",
       "      <th>4</th>\n",
       "      <td>850</td>\n",
       "      <td>Spain</td>\n",
       "      <td>Female</td>\n",
       "      <td>2</td>\n",
       "      <td>2</td>\n",
       "      <td>125510.82</td>\n",
       "      <td>1</td>\n",
       "      <td>1</td>\n",
       "      <td>1</td>\n",
       "      <td>79084.10</td>\n",
       "    </tr>\n",
       "  </tbody>\n",
       "</table>\n",
       "</div>"
      ],
      "text/plain": [
       "   CreditScore Geography  Gender  Age  Tenure    Balance  NumOfProducts  \\\n",
       "0          619    France  Female    2       2       0.00              1   \n",
       "1          608     Spain  Female    2       1   83807.86              1   \n",
       "2          502    France  Female    2       8  159660.80              3   \n",
       "3          699    France  Female    1       1       0.00              2   \n",
       "4          850     Spain  Female    2       2  125510.82              1   \n",
       "\n",
       "   HasCrCard  IsActiveMember  EstimatedSalary  \n",
       "0          1               1        101348.88  \n",
       "1          0               1        112542.58  \n",
       "2          1               0        113931.57  \n",
       "3          0               0         93826.63  \n",
       "4          1               1         79084.10  "
      ]
     },
     "execution_count": 108,
     "metadata": {},
     "output_type": "execute_result"
    }
   ],
   "source": [
    "dataset_X.head()"
   ]
  },
  {
   "cell_type": "code",
   "execution_count": 109,
   "metadata": {},
   "outputs": [
    {
     "data": {
      "text/plain": [
       "0    1\n",
       "1    0\n",
       "2    1\n",
       "3    0\n",
       "4    0\n",
       "Name: Exited, dtype: int64"
      ]
     },
     "execution_count": 109,
     "metadata": {},
     "output_type": "execute_result"
    }
   ],
   "source": [
    "dataset_y.head()"
   ]
  },
  {
   "cell_type": "markdown",
   "metadata": {},
   "source": [
    "## Data Preprocessing"
   ]
  },
  {
   "cell_type": "code",
   "execution_count": 111,
   "metadata": {},
   "outputs": [],
   "source": [
    "from sklearn.preprocessing import LabelEncoder,OneHotEncoder"
   ]
  },
  {
   "cell_type": "code",
   "execution_count": 112,
   "metadata": {},
   "outputs": [
    {
     "data": {
      "text/plain": [
       "France     5014\n",
       "Germany    2509\n",
       "Spain      2477\n",
       "Name: Geography, dtype: int64"
      ]
     },
     "execution_count": 112,
     "metadata": {},
     "output_type": "execute_result"
    }
   ],
   "source": [
    "dataset_X['Geography'].value_counts()"
   ]
  },
  {
   "cell_type": "code",
   "execution_count": 113,
   "metadata": {},
   "outputs": [],
   "source": [
    "enc_geo = LabelEncoder()\n",
    "dataset_X['Geography'] = enc_geo.fit_transform(dataset_X['Geography'])"
   ]
  },
  {
   "cell_type": "code",
   "execution_count": 115,
   "metadata": {},
   "outputs": [
    {
     "data": {
      "text/plain": [
       "0    5014\n",
       "1    2509\n",
       "2    2477\n",
       "Name: Geography, dtype: int64"
      ]
     },
     "execution_count": 115,
     "metadata": {},
     "output_type": "execute_result"
    }
   ],
   "source": [
    "#0 : France,1: Germany, 2: Spain\n",
    "dataset_X['Geography'].value_counts()"
   ]
  },
  {
   "cell_type": "code",
   "execution_count": 116,
   "metadata": {},
   "outputs": [
    {
     "data": {
      "text/plain": [
       "Male      5457\n",
       "Female    4543\n",
       "Name: Gender, dtype: int64"
      ]
     },
     "execution_count": 116,
     "metadata": {},
     "output_type": "execute_result"
    }
   ],
   "source": [
    "dataset_X['Gender'].value_counts()"
   ]
  },
  {
   "cell_type": "code",
   "execution_count": 117,
   "metadata": {},
   "outputs": [],
   "source": [
    "enc_gen = LabelEncoder()\n",
    "dataset_X['Gender'] = enc_gen.fit_transform(dataset_X['Gender'])"
   ]
  },
  {
   "cell_type": "code",
   "execution_count": 118,
   "metadata": {},
   "outputs": [
    {
     "data": {
      "text/plain": [
       "1    5457\n",
       "0    4543\n",
       "Name: Gender, dtype: int64"
      ]
     },
     "execution_count": 118,
     "metadata": {},
     "output_type": "execute_result"
    }
   ],
   "source": [
    "dataset_X['Gender'].value_counts()"
   ]
  },
  {
   "cell_type": "code",
   "execution_count": 119,
   "metadata": {},
   "outputs": [
    {
     "data": {
      "text/html": [
       "<div>\n",
       "<style scoped>\n",
       "    .dataframe tbody tr th:only-of-type {\n",
       "        vertical-align: middle;\n",
       "    }\n",
       "\n",
       "    .dataframe tbody tr th {\n",
       "        vertical-align: top;\n",
       "    }\n",
       "\n",
       "    .dataframe thead th {\n",
       "        text-align: right;\n",
       "    }\n",
       "</style>\n",
       "<table border=\"1\" class=\"dataframe\">\n",
       "  <thead>\n",
       "    <tr style=\"text-align: right;\">\n",
       "      <th></th>\n",
       "      <th>CreditScore</th>\n",
       "      <th>Geography</th>\n",
       "      <th>Gender</th>\n",
       "      <th>Age</th>\n",
       "      <th>Tenure</th>\n",
       "      <th>Balance</th>\n",
       "      <th>NumOfProducts</th>\n",
       "      <th>HasCrCard</th>\n",
       "      <th>IsActiveMember</th>\n",
       "      <th>EstimatedSalary</th>\n",
       "    </tr>\n",
       "  </thead>\n",
       "  <tbody>\n",
       "    <tr>\n",
       "      <th>0</th>\n",
       "      <td>619</td>\n",
       "      <td>0</td>\n",
       "      <td>0</td>\n",
       "      <td>2</td>\n",
       "      <td>2</td>\n",
       "      <td>0.00</td>\n",
       "      <td>1</td>\n",
       "      <td>1</td>\n",
       "      <td>1</td>\n",
       "      <td>101348.88</td>\n",
       "    </tr>\n",
       "    <tr>\n",
       "      <th>1</th>\n",
       "      <td>608</td>\n",
       "      <td>2</td>\n",
       "      <td>0</td>\n",
       "      <td>2</td>\n",
       "      <td>1</td>\n",
       "      <td>83807.86</td>\n",
       "      <td>1</td>\n",
       "      <td>0</td>\n",
       "      <td>1</td>\n",
       "      <td>112542.58</td>\n",
       "    </tr>\n",
       "    <tr>\n",
       "      <th>2</th>\n",
       "      <td>502</td>\n",
       "      <td>0</td>\n",
       "      <td>0</td>\n",
       "      <td>2</td>\n",
       "      <td>8</td>\n",
       "      <td>159660.80</td>\n",
       "      <td>3</td>\n",
       "      <td>1</td>\n",
       "      <td>0</td>\n",
       "      <td>113931.57</td>\n",
       "    </tr>\n",
       "    <tr>\n",
       "      <th>3</th>\n",
       "      <td>699</td>\n",
       "      <td>0</td>\n",
       "      <td>0</td>\n",
       "      <td>1</td>\n",
       "      <td>1</td>\n",
       "      <td>0.00</td>\n",
       "      <td>2</td>\n",
       "      <td>0</td>\n",
       "      <td>0</td>\n",
       "      <td>93826.63</td>\n",
       "    </tr>\n",
       "    <tr>\n",
       "      <th>4</th>\n",
       "      <td>850</td>\n",
       "      <td>2</td>\n",
       "      <td>0</td>\n",
       "      <td>2</td>\n",
       "      <td>2</td>\n",
       "      <td>125510.82</td>\n",
       "      <td>1</td>\n",
       "      <td>1</td>\n",
       "      <td>1</td>\n",
       "      <td>79084.10</td>\n",
       "    </tr>\n",
       "  </tbody>\n",
       "</table>\n",
       "</div>"
      ],
      "text/plain": [
       "   CreditScore  Geography  Gender  Age  Tenure    Balance  NumOfProducts  \\\n",
       "0          619          0       0    2       2       0.00              1   \n",
       "1          608          2       0    2       1   83807.86              1   \n",
       "2          502          0       0    2       8  159660.80              3   \n",
       "3          699          0       0    1       1       0.00              2   \n",
       "4          850          2       0    2       2  125510.82              1   \n",
       "\n",
       "   HasCrCard  IsActiveMember  EstimatedSalary  \n",
       "0          1               1        101348.88  \n",
       "1          0               1        112542.58  \n",
       "2          1               0        113931.57  \n",
       "3          0               0         93826.63  \n",
       "4          1               1         79084.10  "
      ]
     },
     "execution_count": 119,
     "metadata": {},
     "output_type": "execute_result"
    }
   ],
   "source": [
    "dataset_X.head()\n",
    "\n",
    "np.array([[600,0,0,1,0,1,0,2,60000,1,1,1,50000]])"
   ]
  },
  {
   "cell_type": "code",
   "execution_count": 120,
   "metadata": {},
   "outputs": [],
   "source": [
    "dataset_X = dataset_X.values"
   ]
  },
  {
   "cell_type": "code",
   "execution_count": 122,
   "metadata": {},
   "outputs": [],
   "source": [
    "geo_ohe = OneHotEncoder(categorical_features=[1])"
   ]
  },
  {
   "cell_type": "code",
   "execution_count": 123,
   "metadata": {},
   "outputs": [],
   "source": [
    "dataset_X = geo_ohe.fit_transform(dataset_X).toarray()"
   ]
  },
  {
   "cell_type": "code",
   "execution_count": 128,
   "metadata": {},
   "outputs": [],
   "source": [
    "dataset_X = dataset_X[:,1:]"
   ]
  },
  {
   "cell_type": "code",
   "execution_count": 134,
   "metadata": {},
   "outputs": [],
   "source": [
    "age_ohe = OneHotEncoder(categorical_features=[4])"
   ]
  },
  {
   "cell_type": "code",
   "execution_count": 135,
   "metadata": {},
   "outputs": [],
   "source": [
    "dataset_X = age_ohe.fit_transform(dataset_X).toarray()"
   ]
  },
  {
   "cell_type": "code",
   "execution_count": 137,
   "metadata": {},
   "outputs": [],
   "source": [
    "dataset_X = dataset_X[:,1:]"
   ]
  },
  {
   "cell_type": "code",
   "execution_count": 138,
   "metadata": {},
   "outputs": [],
   "source": [
    "dataset_y = dataset_y.values"
   ]
  },
  {
   "cell_type": "code",
   "execution_count": 140,
   "metadata": {},
   "outputs": [],
   "source": [
    "from sklearn.model_selection import train_test_split"
   ]
  },
  {
   "cell_type": "code",
   "execution_count": 141,
   "metadata": {},
   "outputs": [],
   "source": [
    "X_train,X_test,y_train,y_test = train_test_split(dataset_X,dataset_y,test_size = 0.2,random_state = 0)"
   ]
  },
  {
   "cell_type": "code",
   "execution_count": 142,
   "metadata": {},
   "outputs": [
    {
     "data": {
      "text/plain": [
       "(8000, 13)"
      ]
     },
     "execution_count": 142,
     "metadata": {},
     "output_type": "execute_result"
    }
   ],
   "source": [
    "X_train.shape"
   ]
  },
  {
   "cell_type": "code",
   "execution_count": 143,
   "metadata": {},
   "outputs": [
    {
     "data": {
      "text/plain": [
       "(2000, 13)"
      ]
     },
     "execution_count": 143,
     "metadata": {},
     "output_type": "execute_result"
    }
   ],
   "source": [
    "X_test.shape"
   ]
  },
  {
   "cell_type": "code",
   "execution_count": 144,
   "metadata": {},
   "outputs": [
    {
     "data": {
      "text/plain": [
       "(8000,)"
      ]
     },
     "execution_count": 144,
     "metadata": {},
     "output_type": "execute_result"
    }
   ],
   "source": [
    "y_train.shape"
   ]
  },
  {
   "cell_type": "code",
   "execution_count": 145,
   "metadata": {},
   "outputs": [
    {
     "data": {
      "text/plain": [
       "(2000,)"
      ]
     },
     "execution_count": 145,
     "metadata": {},
     "output_type": "execute_result"
    }
   ],
   "source": [
    "y_test.shape"
   ]
  },
  {
   "cell_type": "code",
   "execution_count": 146,
   "metadata": {},
   "outputs": [],
   "source": [
    "from sklearn.preprocessing import StandardScaler"
   ]
  },
  {
   "cell_type": "code",
   "execution_count": 147,
   "metadata": {},
   "outputs": [],
   "source": [
    "sc_X = StandardScaler()"
   ]
  },
  {
   "cell_type": "code",
   "execution_count": 148,
   "metadata": {},
   "outputs": [],
   "source": [
    "X_train = sc_X.fit_transform(X_train)"
   ]
  },
  {
   "cell_type": "code",
   "execution_count": 149,
   "metadata": {},
   "outputs": [],
   "source": [
    "X_test = sc_X.transform(X_test)"
   ]
  },
  {
   "cell_type": "markdown",
   "metadata": {},
   "source": [
    "## Building ANN Model"
   ]
  },
  {
   "cell_type": "code",
   "execution_count": 210,
   "metadata": {},
   "outputs": [],
   "source": [
    "import keras\n",
    "from keras.models import Sequential\n",
    "from keras.layers import Dense"
   ]
  },
  {
   "cell_type": "code",
   "execution_count": 211,
   "metadata": {},
   "outputs": [
    {
     "data": {
      "text/plain": [
       "(8000, 13)"
      ]
     },
     "execution_count": 211,
     "metadata": {},
     "output_type": "execute_result"
    }
   ],
   "source": [
    "X_train.shape"
   ]
  },
  {
   "cell_type": "code",
   "execution_count": 238,
   "metadata": {},
   "outputs": [],
   "source": [
    "model = Sequential()"
   ]
  },
  {
   "cell_type": "code",
   "execution_count": 239,
   "metadata": {},
   "outputs": [],
   "source": [
    "model.add(Dense(units=10, activation= 'relu',kernel_initializer='uniform',input_dim = 13))"
   ]
  },
  {
   "cell_type": "code",
   "execution_count": 240,
   "metadata": {},
   "outputs": [],
   "source": [
    "model.add(Dense(units=10, activation= 'relu',kernel_initializer='uniform'))"
   ]
  },
  {
   "cell_type": "code",
   "execution_count": 241,
   "metadata": {},
   "outputs": [],
   "source": [
    "#model.add(Dense(units=10, activation= 'relu',kernel_initializer='uniform'))"
   ]
  },
  {
   "cell_type": "code",
   "execution_count": 242,
   "metadata": {},
   "outputs": [],
   "source": [
    "model.add(Dense(units=1, activation= 'sigmoid',kernel_initializer='uniform'))"
   ]
  },
  {
   "cell_type": "code",
   "execution_count": 243,
   "metadata": {},
   "outputs": [],
   "source": [
    "model.compile(optimizer='rmsprop',loss = 'binary_crossentropy',metrics = ['accuracy'])"
   ]
  },
  {
   "cell_type": "code",
   "execution_count": 244,
   "metadata": {
    "scrolled": false
   },
   "outputs": [
    {
     "name": "stdout",
     "output_type": "stream",
     "text": [
      "Epoch 1/100\n",
      "8000/8000 [==============================] - 2s 285us/step - loss: 0.4833 - acc: 0.7960\n",
      "Epoch 2/100\n",
      "8000/8000 [==============================] - 1s 173us/step - loss: 0.4318 - acc: 0.7960\n",
      "Epoch 3/100\n",
      "8000/8000 [==============================] - 1s 177us/step - loss: 0.4267 - acc: 0.8010\n",
      "Epoch 4/100\n",
      "8000/8000 [==============================] - 1s 170us/step - loss: 0.4229 - acc: 0.8186\n",
      "Epoch 5/100\n",
      "8000/8000 [==============================] - 1s 174us/step - loss: 0.4208 - acc: 0.8220\n",
      "Epoch 6/100\n",
      "8000/8000 [==============================] - 1s 177us/step - loss: 0.4190 - acc: 0.8236\n",
      "Epoch 7/100\n",
      "8000/8000 [==============================] - 2s 191us/step - loss: 0.4174 - acc: 0.8251\n",
      "Epoch 8/100\n",
      "8000/8000 [==============================] - 1s 176us/step - loss: 0.4156 - acc: 0.8262\n",
      "Epoch 9/100\n",
      "8000/8000 [==============================] - 1s 176us/step - loss: 0.4145 - acc: 0.8267\n",
      "Epoch 10/100\n",
      "8000/8000 [==============================] - 1s 177us/step - loss: 0.4137 - acc: 0.8266\n",
      "Epoch 11/100\n",
      "8000/8000 [==============================] - 1s 182us/step - loss: 0.4123 - acc: 0.8259\n",
      "Epoch 12/100\n",
      "8000/8000 [==============================] - 1s 183us/step - loss: 0.4119 - acc: 0.8289\n",
      "Epoch 13/100\n",
      "8000/8000 [==============================] - 2s 218us/step - loss: 0.4114 - acc: 0.8265\n",
      "Epoch 14/100\n",
      "8000/8000 [==============================] - 2s 271us/step - loss: 0.4109 - acc: 0.8284\n",
      "Epoch 15/100\n",
      "8000/8000 [==============================] - 2s 251us/step - loss: 0.4112 - acc: 0.8272\n",
      "Epoch 16/100\n",
      "8000/8000 [==============================] - 2s 202us/step - loss: 0.4111 - acc: 0.8306\n",
      "Epoch 17/100\n",
      "8000/8000 [==============================] - 2s 190us/step - loss: 0.4101 - acc: 0.8296\n",
      "Epoch 18/100\n",
      "8000/8000 [==============================] - 2s 188us/step - loss: 0.4106 - acc: 0.8262\n",
      "Epoch 19/100\n",
      "8000/8000 [==============================] - 2s 188us/step - loss: 0.4105 - acc: 0.8276\n",
      "Epoch 20/100\n",
      "8000/8000 [==============================] - 1s 181us/step - loss: 0.4101 - acc: 0.8281\n",
      "Epoch 21/100\n",
      "8000/8000 [==============================] - 1s 181us/step - loss: 0.4102 - acc: 0.8299\n",
      "Epoch 22/100\n",
      "8000/8000 [==============================] - 1s 182us/step - loss: 0.4099 - acc: 0.8282\n",
      "Epoch 23/100\n",
      "8000/8000 [==============================] - 1s 182us/step - loss: 0.4098 - acc: 0.8294\n",
      "Epoch 24/100\n",
      "8000/8000 [==============================] - 1s 181us/step - loss: 0.4093 - acc: 0.8311\n",
      "Epoch 25/100\n",
      "8000/8000 [==============================] - 2s 232us/step - loss: 0.4091 - acc: 0.8285\n",
      "Epoch 26/100\n",
      "8000/8000 [==============================] - 2s 216us/step - loss: 0.4086 - acc: 0.8295\n",
      "Epoch 27/100\n",
      "8000/8000 [==============================] - 2s 209us/step - loss: 0.4077 - acc: 0.8285\n",
      "Epoch 28/100\n",
      "8000/8000 [==============================] - 1s 180us/step - loss: 0.4081 - acc: 0.8289\n",
      "Epoch 29/100\n",
      "8000/8000 [==============================] - 1s 176us/step - loss: 0.4071 - acc: 0.8275\n",
      "Epoch 30/100\n",
      "8000/8000 [==============================] - 1s 181us/step - loss: 0.4079 - acc: 0.8297\n",
      "Epoch 31/100\n",
      "8000/8000 [==============================] - 2s 197us/step - loss: 0.4070 - acc: 0.8272\n",
      "Epoch 32/100\n",
      "8000/8000 [==============================] - 2s 216us/step - loss: 0.4073 - acc: 0.8307\n",
      "Epoch 33/100\n",
      "8000/8000 [==============================] - 2s 227us/step - loss: 0.4071 - acc: 0.8316\n",
      "Epoch 34/100\n",
      "8000/8000 [==============================] - 1s 187us/step - loss: 0.4068 - acc: 0.8310\n",
      "Epoch 35/100\n",
      "8000/8000 [==============================] - 2s 188us/step - loss: 0.4063 - acc: 0.8299\n",
      "Epoch 36/100\n",
      "8000/8000 [==============================] - 2s 191us/step - loss: 0.4066 - acc: 0.8296\n",
      "Epoch 37/100\n",
      "8000/8000 [==============================] - 1s 179us/step - loss: 0.4057 - acc: 0.8312\n",
      "Epoch 38/100\n",
      "8000/8000 [==============================] - 2s 218us/step - loss: 0.4057 - acc: 0.8312\n",
      "Epoch 39/100\n",
      "8000/8000 [==============================] - 1s 179us/step - loss: 0.4049 - acc: 0.8305\n",
      "Epoch 40/100\n",
      "8000/8000 [==============================] - 1s 181us/step - loss: 0.4052 - acc: 0.8314\n",
      "Epoch 41/100\n",
      "8000/8000 [==============================] - 1s 181us/step - loss: 0.4039 - acc: 0.8319\n",
      "Epoch 42/100\n",
      "8000/8000 [==============================] - 2s 188us/step - loss: 0.4041 - acc: 0.8309\n",
      "Epoch 43/100\n",
      "8000/8000 [==============================] - 2s 223us/step - loss: 0.4033 - acc: 0.8352\n",
      "Epoch 44/100\n",
      "8000/8000 [==============================] - 1s 186us/step - loss: 0.4025 - acc: 0.8321\n",
      "Epoch 45/100\n",
      "8000/8000 [==============================] - 1s 173us/step - loss: 0.4021 - acc: 0.8342\n",
      "Epoch 46/100\n",
      "8000/8000 [==============================] - 2s 240us/step - loss: 0.4021 - acc: 0.8337\n",
      "Epoch 47/100\n",
      "8000/8000 [==============================] - 2s 255us/step - loss: 0.4002 - acc: 0.8347\n",
      "Epoch 48/100\n",
      "8000/8000 [==============================] - 2s 273us/step - loss: 0.3992 - acc: 0.8354\n",
      "Epoch 49/100\n",
      "8000/8000 [==============================] - 2s 228us/step - loss: 0.3979 - acc: 0.8346\n",
      "Epoch 50/100\n",
      "8000/8000 [==============================] - 1s 185us/step - loss: 0.3974 - acc: 0.8361\n",
      "Epoch 51/100\n",
      "8000/8000 [==============================] - 2s 189us/step - loss: 0.3953 - acc: 0.8350\n",
      "Epoch 52/100\n",
      "8000/8000 [==============================] - 1s 180us/step - loss: 0.3944 - acc: 0.8357\n",
      "Epoch 53/100\n",
      "8000/8000 [==============================] - 2s 191us/step - loss: 0.3938 - acc: 0.8372\n",
      "Epoch 54/100\n",
      "8000/8000 [==============================] - 1s 181us/step - loss: 0.3931 - acc: 0.8377\n",
      "Epoch 55/100\n",
      "8000/8000 [==============================] - 2s 196us/step - loss: 0.3905 - acc: 0.8384\n",
      "Epoch 56/100\n",
      "8000/8000 [==============================] - 1s 181us/step - loss: 0.3907 - acc: 0.8385\n",
      "Epoch 57/100\n",
      "8000/8000 [==============================] - 1s 183us/step - loss: 0.3893 - acc: 0.8335\n",
      "Epoch 58/100\n",
      "8000/8000 [==============================] - 1s 182us/step - loss: 0.3872 - acc: 0.8364\n",
      "Epoch 59/100\n",
      "8000/8000 [==============================] - 1s 183us/step - loss: 0.3855 - acc: 0.8361\n",
      "Epoch 60/100\n",
      "8000/8000 [==============================] - 1s 183us/step - loss: 0.3825 - acc: 0.8366\n",
      "Epoch 61/100\n",
      "8000/8000 [==============================] - 1s 183us/step - loss: 0.3822 - acc: 0.8369\n",
      "Epoch 62/100\n",
      "8000/8000 [==============================] - 2s 190us/step - loss: 0.3815 - acc: 0.8352\n",
      "Epoch 63/100\n",
      "8000/8000 [==============================] - 2s 234us/step - loss: 0.3791 - acc: 0.8390\n",
      "Epoch 64/100\n",
      "8000/8000 [==============================] - 2s 196us/step - loss: 0.3785 - acc: 0.8375\n",
      "Epoch 65/100\n",
      "8000/8000 [==============================] - 1s 182us/step - loss: 0.3785 - acc: 0.8380\n",
      "Epoch 66/100\n",
      "8000/8000 [==============================] - 2s 232us/step - loss: 0.3769 - acc: 0.8381\n",
      "Epoch 67/100\n",
      "8000/8000 [==============================] - 2s 209us/step - loss: 0.3760 - acc: 0.8387\n",
      "Epoch 68/100\n",
      "8000/8000 [==============================] - 2s 190us/step - loss: 0.3766 - acc: 0.8411\n",
      "Epoch 69/100\n",
      "8000/8000 [==============================] - 2s 204us/step - loss: 0.3761 - acc: 0.8399\n",
      "Epoch 70/100\n",
      "8000/8000 [==============================] - 2s 220us/step - loss: 0.3754 - acc: 0.8416\n",
      "Epoch 71/100\n",
      "8000/8000 [==============================] - 2s 225us/step - loss: 0.3735 - acc: 0.8396\n",
      "Epoch 72/100\n",
      "8000/8000 [==============================] - 2s 191us/step - loss: 0.3730 - acc: 0.8410\n",
      "Epoch 73/100\n",
      "8000/8000 [==============================] - 2s 191us/step - loss: 0.3735 - acc: 0.8415\n",
      "Epoch 74/100\n",
      "8000/8000 [==============================] - 2s 193us/step - loss: 0.3721 - acc: 0.8407\n",
      "Epoch 75/100\n",
      "8000/8000 [==============================] - 1s 182us/step - loss: 0.3717 - acc: 0.8407\n",
      "Epoch 76/100\n",
      "8000/8000 [==============================] - 1s 183us/step - loss: 0.3696 - acc: 0.8432\n",
      "Epoch 77/100\n",
      "8000/8000 [==============================] - 1s 180us/step - loss: 0.3678 - acc: 0.8446\n",
      "Epoch 78/100\n",
      "8000/8000 [==============================] - 1s 181us/step - loss: 0.3651 - acc: 0.8472\n",
      "Epoch 79/100\n",
      "8000/8000 [==============================] - 1s 181us/step - loss: 0.3624 - acc: 0.8485\n",
      "Epoch 80/100\n",
      "8000/8000 [==============================] - 2s 227us/step - loss: 0.3582 - acc: 0.8502\n",
      "Epoch 81/100\n",
      "8000/8000 [==============================] - 2s 188us/step - loss: 0.3542 - acc: 0.8540\n",
      "Epoch 82/100\n"
     ]
    },
    {
     "name": "stdout",
     "output_type": "stream",
     "text": [
      "8000/8000 [==============================] - 1s 178us/step - loss: 0.3516 - acc: 0.8550\n",
      "Epoch 83/100\n",
      "8000/8000 [==============================] - 2s 189us/step - loss: 0.3488 - acc: 0.8565\n",
      "Epoch 84/100\n",
      "8000/8000 [==============================] - 1s 176us/step - loss: 0.3475 - acc: 0.8557\n",
      "Epoch 85/100\n",
      "8000/8000 [==============================] - 1s 174us/step - loss: 0.3473 - acc: 0.8575\n",
      "Epoch 86/100\n",
      "8000/8000 [==============================] - 1s 176us/step - loss: 0.3459 - acc: 0.8542\n",
      "Epoch 87/100\n",
      "8000/8000 [==============================] - 1s 175us/step - loss: 0.3441 - acc: 0.8571\n",
      "Epoch 88/100\n",
      "8000/8000 [==============================] - 1s 175us/step - loss: 0.3435 - acc: 0.8575\n",
      "Epoch 89/100\n",
      "8000/8000 [==============================] - 1s 175us/step - loss: 0.3420 - acc: 0.8597\n",
      "Epoch 90/100\n",
      "8000/8000 [==============================] - 1s 180us/step - loss: 0.3418 - acc: 0.8611\n",
      "Epoch 91/100\n",
      "8000/8000 [==============================] - 1s 176us/step - loss: 0.3417 - acc: 0.8621\n",
      "Epoch 92/100\n",
      "8000/8000 [==============================] - 2s 219us/step - loss: 0.3414 - acc: 0.8575\n",
      "Epoch 93/100\n",
      "8000/8000 [==============================] - 2s 204us/step - loss: 0.3414 - acc: 0.8581\n",
      "Epoch 94/100\n",
      "8000/8000 [==============================] - 2s 219us/step - loss: 0.3396 - acc: 0.8594\n",
      "Epoch 95/100\n",
      "8000/8000 [==============================] - 2s 221us/step - loss: 0.3402 - acc: 0.8602\n",
      "Epoch 96/100\n",
      "8000/8000 [==============================] - 2s 190us/step - loss: 0.3400 - acc: 0.8592\n",
      "Epoch 97/100\n",
      "8000/8000 [==============================] - 2s 189us/step - loss: 0.3383 - acc: 0.8594\n",
      "Epoch 98/100\n",
      "8000/8000 [==============================] - 1s 183us/step - loss: 0.3391 - acc: 0.8616\n",
      "Epoch 99/100\n",
      "8000/8000 [==============================] - 1s 187us/step - loss: 0.3391 - acc: 0.8594\n",
      "Epoch 100/100\n",
      "8000/8000 [==============================] - 1s 181us/step - loss: 0.3395 - acc: 0.8617\n"
     ]
    },
    {
     "data": {
      "text/plain": [
       "<keras.callbacks.History at 0x1a3a1e2748>"
      ]
     },
     "execution_count": 244,
     "metadata": {},
     "output_type": "execute_result"
    }
   ],
   "source": [
    "model.fit(X_train,y_train,batch_size=10,epochs=100)"
   ]
  },
  {
   "cell_type": "code",
   "execution_count": 245,
   "metadata": {},
   "outputs": [],
   "source": [
    "y_pred = model.predict(X_test)"
   ]
  },
  {
   "cell_type": "code",
   "execution_count": 246,
   "metadata": {},
   "outputs": [],
   "source": [
    "y_pred = (y_pred > 0.5)"
   ]
  },
  {
   "cell_type": "code",
   "execution_count": 247,
   "metadata": {},
   "outputs": [],
   "source": [
    "from sklearn.metrics import confusion_matrix"
   ]
  },
  {
   "cell_type": "code",
   "execution_count": 248,
   "metadata": {},
   "outputs": [],
   "source": [
    "cm = confusion_matrix(y_test,y_pred)"
   ]
  },
  {
   "cell_type": "code",
   "execution_count": 249,
   "metadata": {},
   "outputs": [
    {
     "data": {
      "text/plain": [
       "array([[1498,   97],\n",
       "       [ 184,  221]])"
      ]
     },
     "execution_count": 249,
     "metadata": {},
     "output_type": "execute_result"
    }
   ],
   "source": [
    "cm"
   ]
  },
  {
   "cell_type": "code",
   "execution_count": 250,
   "metadata": {},
   "outputs": [],
   "source": [
    "accuracy = (cm[0][0]+cm[1][1])/X_test.shape[0]"
   ]
  },
  {
   "cell_type": "code",
   "execution_count": 251,
   "metadata": {},
   "outputs": [
    {
     "data": {
      "text/plain": [
       "0.8595"
      ]
     },
     "execution_count": 251,
     "metadata": {},
     "output_type": "execute_result"
    }
   ],
   "source": [
    "accuracy"
   ]
  },
  {
   "cell_type": "code",
   "execution_count": 188,
   "metadata": {},
   "outputs": [],
   "source": [
    "#Evaluating ANN\n",
    "\n",
    "from keras.wrappers.scikit_learn import KerasClassifier\n",
    "from sklearn.model_selection import cross_val_score"
   ]
  },
  {
   "cell_type": "code",
   "execution_count": 198,
   "metadata": {},
   "outputs": [],
   "source": [
    "def build_classifier():\n",
    "    model = Sequential()\n",
    "    model.add(Dense(units=8, activation= 'relu',kernel_initializer='uniform',input_dim = 13))\n",
    "    model.add(Dense(units=8, activation= 'relu',kernel_initializer='uniform'))\n",
    "    model.add(Dense(units=1, activation= 'sigmoid',kernel_initializer='uniform'))\n",
    "    model.compile(optimizer='adam',loss = 'binary_crossentropy',metrics = ['accuracy'])\n",
    "    return model    "
   ]
  },
  {
   "cell_type": "code",
   "execution_count": 200,
   "metadata": {
    "scrolled": true
   },
   "outputs": [
    {
     "name": "stdout",
     "output_type": "stream",
     "text": [
      "Epoch 1/10\n",
      "7200/7200 [==============================] - 2s 263us/step - loss: 0.4845 - acc: 0.7967 0s - loss: 0.5150 -\n",
      "Epoch 2/10\n",
      "7200/7200 [==============================] - 1s 182us/step - loss: 0.4289 - acc: 0.7971\n",
      "Epoch 3/10\n",
      "7200/7200 [==============================] - 1s 177us/step - loss: 0.4240 - acc: 0.8024\n",
      "Epoch 4/10\n",
      "7200/7200 [==============================] - 2s 302us/step - loss: 0.4205 - acc: 0.8214\n",
      "Epoch 5/10\n",
      "7200/7200 [==============================] - 2s 218us/step - loss: 0.4172 - acc: 0.8247\n",
      "Epoch 6/10\n",
      "7200/7200 [==============================] - 1s 174us/step - loss: 0.4148 - acc: 0.8257\n",
      "Epoch 7/10\n",
      "7200/7200 [==============================] - 1s 165us/step - loss: 0.4136 - acc: 0.8262\n",
      "Epoch 8/10\n",
      "7200/7200 [==============================] - 1s 164us/step - loss: 0.4123 - acc: 0.8261\n",
      "Epoch 9/10\n",
      "7200/7200 [==============================] - 1s 175us/step - loss: 0.4111 - acc: 0.8258\n",
      "Epoch 10/10\n",
      "7200/7200 [==============================] - 1s 167us/step - loss: 0.4105 - acc: 0.8256\n",
      "800/800 [==============================] - 0s 152us/step\n",
      "Epoch 1/10\n",
      "7200/7200 [==============================] - 2s 231us/step - loss: 0.4840 - acc: 0.7962\n",
      "Epoch 2/10\n",
      "7200/7200 [==============================] - 1s 193us/step - loss: 0.4299 - acc: 0.7967\n",
      "Epoch 3/10\n",
      "7200/7200 [==============================] - 2s 218us/step - loss: 0.4253 - acc: 0.7967\n",
      "Epoch 4/10\n",
      "7200/7200 [==============================] - 2s 219us/step - loss: 0.4230 - acc: 0.8172\n",
      "Epoch 5/10\n",
      "7200/7200 [==============================] - 1s 176us/step - loss: 0.4215 - acc: 0.8193\n",
      "Epoch 6/10\n",
      "7200/7200 [==============================] - 1s 177us/step - loss: 0.4210 - acc: 0.8240\n",
      "Epoch 7/10\n",
      "7200/7200 [==============================] - 1s 175us/step - loss: 0.4193 - acc: 0.8228\n",
      "Epoch 8/10\n",
      "7200/7200 [==============================] - 1s 176us/step - loss: 0.4191 - acc: 0.8244\n",
      "Epoch 9/10\n",
      "7200/7200 [==============================] - 1s 177us/step - loss: 0.4179 - acc: 0.8250\n",
      "Epoch 10/10\n",
      "7200/7200 [==============================] - 2s 220us/step - loss: 0.4170 - acc: 0.8253\n",
      "800/800 [==============================] - 0s 162us/step\n",
      "Epoch 1/10\n",
      "7200/7200 [==============================] - 2s 342us/step - loss: 0.4838 - acc: 0.7957\n",
      "Epoch 2/10\n",
      "7200/7200 [==============================] - 1s 181us/step - loss: 0.4312 - acc: 0.7956\n",
      "Epoch 3/10\n",
      "7200/7200 [==============================] - 1s 183us/step - loss: 0.4252 - acc: 0.8085\n",
      "Epoch 4/10\n",
      "7200/7200 [==============================] - 1s 181us/step - loss: 0.4221 - acc: 0.8219\n",
      "Epoch 5/10\n",
      "7200/7200 [==============================] - 1s 183us/step - loss: 0.4191 - acc: 0.8247\n",
      "Epoch 6/10\n",
      "7200/7200 [==============================] - 1s 199us/step - loss: 0.4169 - acc: 0.8233\n",
      "Epoch 7/10\n",
      "7200/7200 [==============================] - 1s 201us/step - loss: 0.4154 - acc: 0.8258\n",
      "Epoch 8/10\n",
      "7200/7200 [==============================] - 1s 190us/step - loss: 0.4137 - acc: 0.8251\n",
      "Epoch 9/10\n",
      "7200/7200 [==============================] - 1s 201us/step - loss: 0.4130 - acc: 0.8276\n",
      "Epoch 10/10\n",
      "7200/7200 [==============================] - 1s 180us/step - loss: 0.4119 - acc: 0.8271\n",
      "800/800 [==============================] - 0s 176us/step\n",
      "Epoch 1/10\n",
      "7200/7200 [==============================] - 2s 254us/step - loss: 0.4878 - acc: 0.8024\n",
      "Epoch 2/10\n",
      "7200/7200 [==============================] - 1s 183us/step - loss: 0.4121 - acc: 0.8260\n",
      "Epoch 3/10\n",
      "7200/7200 [==============================] - 1s 184us/step - loss: 0.4035 - acc: 0.8307\n",
      "Epoch 4/10\n",
      "7200/7200 [==============================] - 1s 192us/step - loss: 0.3992 - acc: 0.8294\n",
      "Epoch 5/10\n",
      "7200/7200 [==============================] - 1s 196us/step - loss: 0.3947 - acc: 0.8312\n",
      "Epoch 6/10\n",
      "7200/7200 [==============================] - 1s 186us/step - loss: 0.3881 - acc: 0.8321\n",
      "Epoch 7/10\n",
      "7200/7200 [==============================] - 1s 188us/step - loss: 0.3840 - acc: 0.8318\n",
      "Epoch 8/10\n",
      "7200/7200 [==============================] - 1s 189us/step - loss: 0.3806 - acc: 0.8344\n",
      "Epoch 9/10\n",
      "7200/7200 [==============================] - 1s 187us/step - loss: 0.3765 - acc: 0.8401\n",
      "Epoch 10/10\n",
      "7200/7200 [==============================] - 1s 193us/step - loss: 0.3713 - acc: 0.8456\n",
      "800/800 [==============================] - 0s 221us/step\n",
      "Epoch 1/10\n",
      "7200/7200 [==============================] - 2s 253us/step - loss: 0.4829 - acc: 0.7937\n",
      "Epoch 2/10\n",
      "7200/7200 [==============================] - 1s 182us/step - loss: 0.4336 - acc: 0.7937\n",
      "Epoch 3/10\n",
      "7200/7200 [==============================] - 1s 181us/step - loss: 0.4285 - acc: 0.7985\n",
      "Epoch 4/10\n",
      "7200/7200 [==============================] - 1s 168us/step - loss: 0.4257 - acc: 0.8132\n",
      "Epoch 5/10\n",
      "7200/7200 [==============================] - 1s 170us/step - loss: 0.4243 - acc: 0.8197\n",
      "Epoch 6/10\n",
      "7200/7200 [==============================] - 1s 183us/step - loss: 0.4232 - acc: 0.8201\n",
      "Epoch 7/10\n",
      "7200/7200 [==============================] - 1s 193us/step - loss: 0.4220 - acc: 0.8218\n",
      "Epoch 8/10\n",
      "7200/7200 [==============================] - 2s 217us/step - loss: 0.4214 - acc: 0.8222\n",
      "Epoch 9/10\n",
      "7200/7200 [==============================] - 2s 213us/step - loss: 0.4205 - acc: 0.8219\n",
      "Epoch 10/10\n",
      "7200/7200 [==============================] - 1s 194us/step - loss: 0.4200 - acc: 0.8233\n",
      "800/800 [==============================] - 0s 217us/step\n",
      "Epoch 1/10\n",
      "7200/7200 [==============================] - 2s 264us/step - loss: 0.4866 - acc: 0.7940\n",
      "Epoch 2/10\n",
      "7200/7200 [==============================] - 2s 245us/step - loss: 0.4313 - acc: 0.7944\n",
      "Epoch 3/10\n",
      "7200/7200 [==============================] - 1s 185us/step - loss: 0.4265 - acc: 0.7944\n",
      "Epoch 4/10\n",
      "7200/7200 [==============================] - 1s 177us/step - loss: 0.4239 - acc: 0.8142\n",
      "Epoch 5/10\n",
      "7200/7200 [==============================] - 1s 182us/step - loss: 0.4222 - acc: 0.8201\n",
      "Epoch 6/10\n",
      "7200/7200 [==============================] - 1s 186us/step - loss: 0.4212 - acc: 0.8199\n",
      "Epoch 7/10\n",
      "7200/7200 [==============================] - 1s 191us/step - loss: 0.4198 - acc: 0.8246\n",
      "Epoch 8/10\n",
      "7200/7200 [==============================] - 1s 184us/step - loss: 0.4194 - acc: 0.8261\n",
      "Epoch 9/10\n",
      "7200/7200 [==============================] - 1s 189us/step - loss: 0.4181 - acc: 0.8236\n",
      "Epoch 10/10\n",
      "7200/7200 [==============================] - 1s 177us/step - loss: 0.4175 - acc: 0.8236\n",
      "800/800 [==============================] - 0s 236us/step\n",
      "Epoch 1/10\n",
      "7200/7200 [==============================] - 2s 293us/step - loss: 0.4868 - acc: 0.7992\n",
      "Epoch 2/10\n",
      "7200/7200 [==============================] - 1s 185us/step - loss: 0.4144 - acc: 0.8271\n",
      "Epoch 3/10\n",
      "7200/7200 [==============================] - 1s 187us/step - loss: 0.4010 - acc: 0.8271\n",
      "Epoch 4/10\n",
      "7200/7200 [==============================] - 1s 199us/step - loss: 0.3929 - acc: 0.8293 0s - loss: 0\n",
      "Epoch 5/10\n",
      "7200/7200 [==============================] - 1s 178us/step - loss: 0.3861 - acc: 0.8283\n",
      "Epoch 6/10\n",
      "7200/7200 [==============================] - 1s 184us/step - loss: 0.3810 - acc: 0.8354\n",
      "Epoch 7/10\n",
      "7200/7200 [==============================] - 2s 210us/step - loss: 0.3770 - acc: 0.8407\n",
      "Epoch 8/10\n",
      "7200/7200 [==============================] - 1s 196us/step - loss: 0.3721 - acc: 0.8444\n",
      "Epoch 9/10\n",
      "7200/7200 [==============================] - 2s 244us/step - loss: 0.3684 - acc: 0.8467\n",
      "Epoch 10/10\n",
      "7200/7200 [==============================] - 2s 271us/step - loss: 0.3650 - acc: 0.8469\n",
      "800/800 [==============================] - 0s 258us/step\n",
      "Epoch 1/10\n",
      "7200/7200 [==============================] - 2s 335us/step - loss: 0.4768 - acc: 0.7962\n",
      "Epoch 2/10\n",
      "7200/7200 [==============================] - 2s 224us/step - loss: 0.4159 - acc: 0.7962\n",
      "Epoch 3/10\n",
      "7200/7200 [==============================] - 1s 189us/step - loss: 0.4045 - acc: 0.8179\n",
      "Epoch 4/10\n",
      "7200/7200 [==============================] - 1s 173us/step - loss: 0.3964 - acc: 0.8262\n",
      "Epoch 5/10\n",
      "7200/7200 [==============================] - 1s 173us/step - loss: 0.3891 - acc: 0.8282\n",
      "Epoch 6/10\n",
      "7200/7200 [==============================] - 1s 173us/step - loss: 0.3825 - acc: 0.8342\n",
      "Epoch 7/10\n",
      "7200/7200 [==============================] - 1s 172us/step - loss: 0.3777 - acc: 0.8422\n",
      "Epoch 8/10\n",
      "7200/7200 [==============================] - 1s 182us/step - loss: 0.3738 - acc: 0.8450\n",
      "Epoch 9/10\n"
     ]
    },
    {
     "name": "stdout",
     "output_type": "stream",
     "text": [
      "7200/7200 [==============================] - 1s 186us/step - loss: 0.3698 - acc: 0.8475 0s - loss: 0.3683 - acc: \n",
      "Epoch 10/10\n",
      "7200/7200 [==============================] - 2s 209us/step - loss: 0.3676 - acc: 0.8489\n",
      "800/800 [==============================] - 0s 327us/step\n",
      "Epoch 1/10\n",
      "7200/7200 [==============================] - 2s 287us/step - loss: 0.4771 - acc: 0.8028\n",
      "Epoch 2/10\n",
      "7200/7200 [==============================] - 1s 177us/step - loss: 0.4174 - acc: 0.8225\n",
      "Epoch 3/10\n",
      "7200/7200 [==============================] - 1s 176us/step - loss: 0.4119 - acc: 0.8274\n",
      "Epoch 4/10\n",
      "7200/7200 [==============================] - 1s 176us/step - loss: 0.4086 - acc: 0.8292\n",
      "Epoch 5/10\n",
      "7200/7200 [==============================] - 1s 174us/step - loss: 0.4075 - acc: 0.8296\n",
      "Epoch 6/10\n",
      "7200/7200 [==============================] - 1s 176us/step - loss: 0.4069 - acc: 0.8279\n",
      "Epoch 7/10\n",
      "7200/7200 [==============================] - 1s 174us/step - loss: 0.4063 - acc: 0.8290\n",
      "Epoch 8/10\n",
      "7200/7200 [==============================] - 1s 172us/step - loss: 0.4058 - acc: 0.8289\n",
      "Epoch 9/10\n",
      "7200/7200 [==============================] - 1s 178us/step - loss: 0.4056 - acc: 0.8318\n",
      "Epoch 10/10\n",
      "7200/7200 [==============================] - 1s 177us/step - loss: 0.4035 - acc: 0.8340\n",
      "800/800 [==============================] - 0s 305us/step\n",
      "Epoch 1/10\n",
      "7200/7200 [==============================] - 2s 278us/step - loss: 0.4907 - acc: 0.7953\n",
      "Epoch 2/10\n",
      "7200/7200 [==============================] - 1s 177us/step - loss: 0.4335 - acc: 0.7961\n",
      "Epoch 3/10\n",
      "7200/7200 [==============================] - 1s 174us/step - loss: 0.4295 - acc: 0.7961\n",
      "Epoch 4/10\n",
      "7200/7200 [==============================] - 1s 174us/step - loss: 0.4268 - acc: 0.7978\n",
      "Epoch 5/10\n",
      "7200/7200 [==============================] - 1s 175us/step - loss: 0.4252 - acc: 0.8164\n",
      "Epoch 6/10\n",
      "7200/7200 [==============================] - 1s 174us/step - loss: 0.4238 - acc: 0.8196\n",
      "Epoch 7/10\n",
      "7200/7200 [==============================] - 1s 177us/step - loss: 0.4229 - acc: 0.8199\n",
      "Epoch 8/10\n",
      "7200/7200 [==============================] - 1s 175us/step - loss: 0.4217 - acc: 0.8218\n",
      "Epoch 9/10\n",
      "7200/7200 [==============================] - 1s 176us/step - loss: 0.4209 - acc: 0.8229\n",
      "Epoch 10/10\n",
      "7200/7200 [==============================] - 1s 170us/step - loss: 0.4199 - acc: 0.8232\n",
      "800/800 [==============================] - 0s 313us/step\n"
     ]
    }
   ],
   "source": [
    "model = KerasClassifier(build_fn=build_classifier, batch_size = 10, epochs = 10)\n",
    "accuracies = cross_val_score(estimator=model,X = X_train,y = y_train,cv = 10)"
   ]
  },
  {
   "cell_type": "code",
   "execution_count": 202,
   "metadata": {},
   "outputs": [
    {
     "data": {
      "text/plain": [
       "0.8289999949932099"
      ]
     },
     "execution_count": 202,
     "metadata": {},
     "output_type": "execute_result"
    }
   ],
   "source": [
    "accuracies.mean()"
   ]
  },
  {
   "cell_type": "code",
   "execution_count": 203,
   "metadata": {},
   "outputs": [
    {
     "data": {
      "text/plain": [
       "0.01295183260616807"
      ]
     },
     "execution_count": 203,
     "metadata": {},
     "output_type": "execute_result"
    }
   ],
   "source": [
    "accuracies.std()"
   ]
  },
  {
   "cell_type": "code",
   "execution_count": 204,
   "metadata": {},
   "outputs": [
    {
     "data": {
      "text/plain": [
       "array([ 1.14054112, -0.59505978, -0.40765274, -0.5698444 ,  1.74309049,\n",
       "        0.16958176, -1.09168714,  0.00666099, -1.21571749,  0.8095029 ,\n",
       "        0.64259497, -1.03227043,  1.10643166])"
      ]
     },
     "execution_count": 204,
     "metadata": {},
     "output_type": "execute_result"
    }
   ],
   "source": [
    "X_train[0]"
   ]
  },
  {
   "cell_type": "code",
   "execution_count": 233,
   "metadata": {},
   "outputs": [
    {
     "name": "stderr",
     "output_type": "stream",
     "text": [
      "/anaconda3/lib/python3.6/site-packages/sklearn/utils/validation.py:475: DataConversionWarning: Data with input dtype int64 was converted to float64 by StandardScaler.\n",
      "  warnings.warn(msg, DataConversionWarning)\n"
     ]
    }
   ],
   "source": [
    "#Test Whether a customer leaves the bank or not\n",
    "\n",
    "test = sc_X.transform(np.array([[0,0,0,1,0,600,1,3,60000,2,1,1,50000]]))"
   ]
  },
  {
   "cell_type": "code",
   "execution_count": 234,
   "metadata": {},
   "outputs": [
    {
     "data": {
      "text/plain": [
       "array([[-0.8767768 , -0.59505978, -0.40765274,  1.75486502, -0.57369368,\n",
       "        -0.52111599,  0.91601335, -0.68538967, -0.2569057 ,  0.8095029 ,\n",
       "         0.64259497,  0.9687384 , -0.87203322]])"
      ]
     },
     "execution_count": 234,
     "metadata": {},
     "output_type": "execute_result"
    }
   ],
   "source": [
    "test"
   ]
  },
  {
   "cell_type": "code",
   "execution_count": 235,
   "metadata": {},
   "outputs": [],
   "source": [
    "test_pred = model.predict(test)"
   ]
  },
  {
   "cell_type": "code",
   "execution_count": 236,
   "metadata": {},
   "outputs": [
    {
     "data": {
      "text/plain": [
       "0"
      ]
     },
     "execution_count": 236,
     "metadata": {},
     "output_type": "execute_result"
    }
   ],
   "source": [
    "#the model predicts that the customer wont leave the bank.\n",
    "\n",
    "np.int(test_pred[0][0])"
   ]
  },
  {
   "cell_type": "code",
   "execution_count": null,
   "metadata": {},
   "outputs": [],
   "source": []
  }
 ],
 "metadata": {
  "kernelspec": {
   "display_name": "Python 3",
   "language": "python",
   "name": "python3"
  },
  "language_info": {
   "codemirror_mode": {
    "name": "ipython",
    "version": 3
   },
   "file_extension": ".py",
   "mimetype": "text/x-python",
   "name": "python",
   "nbconvert_exporter": "python",
   "pygments_lexer": "ipython3",
   "version": "3.6.6"
  }
 },
 "nbformat": 4,
 "nbformat_minor": 2
}
